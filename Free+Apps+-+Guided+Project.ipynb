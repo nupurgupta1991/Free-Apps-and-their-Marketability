{
 "cells": [
  {
   "cell_type": "markdown",
   "metadata": {},
   "source": [
    "# Free apps and their marketability\n",
    "\n",
    "In this project, I am going to analyze types of mobile apps and how many users they attract. Therefore, we are going to compare different free apps with their visibility and popularity. We are going to compare the apps on both Android and iOS platforms. "
   ]
  },
  {
   "cell_type": "code",
   "execution_count": 1,
   "metadata": {
    "collapsed": false
   },
   "outputs": [],
   "source": [
    "from csv import reader\n",
    "\n",
    "apple = open('AppleStore.csv')\n",
    "read_a = reader(apple)\n",
    "ios = list(read_a)\n",
    "google = open('googleplaystore.csv')\n",
    "read_g = reader(google)\n",
    "android = list(read_g)"
   ]
  },
  {
   "cell_type": "markdown",
   "metadata": {},
   "source": [
    "Due to unavailability of the entire data set, we will use the available samples for our analysis (source: *Kaggle*). "
   ]
  },
  {
   "cell_type": "code",
   "execution_count": 2,
   "metadata": {
    "collapsed": false
   },
   "outputs": [
    {
     "name": "stdout",
     "output_type": "stream",
     "text": [
      "['Jazz Wi-Fi', 'COMMUNICATION', '3.4', '49', '4.0M', '10,000+', 'Free', '0', 'Everyone', 'Communication', 'February 10, 2017', '0.1', '2.3 and up']\n",
      "\n",
      "\n",
      "['Xposed Wi-Fi-Pwd', 'PERSONALIZATION', '3.5', '1042', '404k', '100,000+', 'Free', '0', 'Everyone', 'Personalization', 'August 5, 2014', '3.0.0', '4.0.3 and up']\n",
      "\n",
      "\n",
      "['Life Made WI-Fi Touchscreen Photo Frame', '1.9', '19', '3.0M', '1,000+', 'Free', '0', 'Everyone', '', 'February 11, 2018', '1.0.19', '4.0 and up']\n",
      "\n",
      "\n"
     ]
    }
   ],
   "source": [
    "def explore_data(dataset, start, end, rows_and_columns=False):\n",
    "    dataset_slice = dataset[start:end]    \n",
    "    for row in dataset_slice:\n",
    "        print(row)\n",
    "        print('\\n') # adds a new (empty) line after each row\n",
    "\n",
    "    if rows_and_columns:\n",
    "        print('Number of rows:', len(dataset))\n",
    "        print('Number of columns:', len(dataset[0]))\n",
    "        \n",
    "explore_data(android,10471,10474,rows_and_columns=False)\n",
    "del android[10472]"
   ]
  },
  {
   "cell_type": "code",
   "execution_count": 3,
   "metadata": {
    "collapsed": false
   },
   "outputs": [
    {
     "name": "stdout",
     "output_type": "stream",
     "text": [
      "['Box', 'BUSINESS', '4.2', '159872', 'Varies with device', '10,000,000+', 'Free', '0', 'Everyone', 'Business', 'July 31, 2018', 'Varies with device', 'Varies with device']\n",
      "['Box', 'BUSINESS', '4.2', '159872', 'Varies with device', '10,000,000+', 'Free', '0', 'Everyone', 'Business', 'July 31, 2018', 'Varies with device', 'Varies with device']\n",
      "['Box', 'BUSINESS', '4.2', '159872', 'Varies with device', '10,000,000+', 'Free', '0', 'Everyone', 'Business', 'July 31, 2018', 'Varies with device', 'Varies with device']\n",
      "Number of duplicate apps =  1181\n",
      "\n",
      "\n",
      "Egs. of duplicate apps ['Quick PDF Scanner + OCR FREE', 'Box', 'Google My Business', 'ZOOM Cloud Meetings', 'join.me - Simple Meetings', 'Box', 'Zenefits', 'Google Ads', 'Google My Business', 'Slack', 'FreshBooks Classic', 'Insightly CRM', 'QuickBooks Accounting: Invoicing & Expenses', 'HipChat - Chat Built for Teams', 'Xero Accounting Software']\n",
      "\n",
      "\n",
      "Number of rows in android =  10841\n",
      "\n",
      "\n",
      "No. of unique apps =  9659\n"
     ]
    }
   ],
   "source": [
    "#Clean google data set\n",
    "#Check for duplicates\n",
    "#Delete duplicate redundant entries\n",
    "\n",
    "duplicate = []\n",
    "unique = []\n",
    "\n",
    "for app in android:\n",
    "    name = app[0]\n",
    "   # print(name)\n",
    "    if name in unique:\n",
    "        duplicate.append(name)\n",
    "    else:\n",
    "        unique.append(name)\n",
    "        \n",
    "for app in android:\n",
    "    name = app[0]\n",
    "    if name == 'Box':\n",
    "        print(app)\n",
    "        \n",
    "print('Number of duplicate apps = ', len(duplicate))\n",
    "print('\\n')\n",
    "print('Egs. of duplicate apps', duplicate[:15])\n",
    "#print(unique)\n",
    "print('\\n')\n",
    "print('Number of rows in android = ', len(android))\n",
    "print('\\n')\n",
    "print(\"No. of unique apps = \", len(android[1:]) - len(duplicate))"
   ]
  },
  {
   "cell_type": "markdown",
   "metadata": {},
   "source": [
    "In the previous section we figured that there are duplicate entries for some apps. We also deleted any entry that was missing or was wrong.\n",
    "\n",
    "Now we need to remove the redundant entries to stop us from double counting them. In order to do that, we will first create `dictionaries` to map app-names to their number of reviews. We will keep the app-names only when their value in the dictionary is the highest, i.e. we will count the app entries for the highest number of reviews as they are the latest data available. In the next few steps, we will perform this task."
   ]
  },
  {
   "cell_type": "code",
   "execution_count": 4,
   "metadata": {
    "collapsed": false
   },
   "outputs": [
    {
     "name": "stdout",
     "output_type": "stream",
     "text": [
      "9659\n"
     ]
    }
   ],
   "source": [
    "#Create dictionary {app-name: no. of reviews}\n",
    "reviews_max = {}\n",
    "\n",
    "#Once we have this dictionary, \n",
    "#we will create a data set with only unique rows\n",
    "\n",
    "android_clean = []\n",
    "already_added = []\n",
    "\n",
    "for app in android[1:]:\n",
    "    name = app[0]\n",
    "    n_reviews = (app[3]) #Check if there is 3.0M somewhere in reviews, delete that row\n",
    "    if name in reviews_max and reviews_max[name] < n_reviews:\n",
    "        reviews_max[name] = n_reviews\n",
    "    if name not in reviews_max:\n",
    "        reviews_max[name] = n_reviews\n",
    "        \n",
    "#print(reviews_max)  \n",
    "len(reviews_max)\n",
    "\n",
    "for app in android[1:]:\n",
    "    name = app[0]\n",
    "    n_reviews = app[3]\n",
    "    if (n_reviews == reviews_max[name]) and (name not in already_added):\n",
    "        android_clean.append(app)\n",
    "        already_added.append(name)\n",
    "        \n",
    "print(len(android_clean))        "
   ]
  },
  {
   "cell_type": "markdown",
   "metadata": {},
   "source": [
    "Now we have removed any duplicate entries in our Google Play app data set.\n",
    "\n",
    "The next step is to remove any apps that do not have **English** names. This is because we are catering to our English-speaking audiences. \n",
    "\n",
    "Using `ordinality` of the English alphabets, given by the **ASCII** codes, we will only keep alphabets that conform to this ordinality, i.e. in the range of `0 to 127`. \n",
    "\n",
    "Before we delete these rows in our data set, we first need to index and find out the app names with these characters which will be our next step."
   ]
  },
  {
   "cell_type": "code",
   "execution_count": 5,
   "metadata": {
    "collapsed": false
   },
   "outputs": [
    {
     "name": "stdout",
     "output_type": "stream",
     "text": [
      "False\n",
      "True\n",
      "['Photo Editor & Candy Camera & Grid & ScrapBook', 'ART_AND_DESIGN', '4.1', '159', '19M', '10,000+', 'Free', '0', 'Everyone', 'Art & Design', 'January 7, 2018', '1.0.0', '4.0.3 and up']\n",
      "\n",
      "\n",
      "['U Launcher Lite – FREE Live Cool Themes, Hide Apps', 'ART_AND_DESIGN', '4.7', '87510', '8.7M', '5,000,000+', 'Free', '0', 'Everyone', 'Art & Design', 'August 1, 2018', '1.2.4', '4.0.3 and up']\n",
      "\n",
      "\n",
      "['Sketch - Draw & Paint', 'ART_AND_DESIGN', '4.5', '215644', '25M', '50,000,000+', 'Free', '0', 'Teen', 'Art & Design', 'June 8, 2018', 'Varies with device', '4.2 and up']\n",
      "\n",
      "\n",
      "['Pixel Draw - Number Art Coloring Book', 'ART_AND_DESIGN', '4.3', '967', '2.8M', '100,000+', 'Free', '0', 'Everyone', 'Art & Design;Creativity', 'June 20, 2018', '1.1', '4.4 and up']\n",
      "\n",
      "\n",
      "['Paper flowers instructions', 'ART_AND_DESIGN', '4.4', '167', '5.6M', '50,000+', 'Free', '0', 'Everyone', 'Art & Design', 'March 26, 2017', '1.0', '2.3 and up']\n",
      "\n",
      "\n",
      "['Smoke Effect Photo Maker - Smoke Editor', 'ART_AND_DESIGN', '3.8', '178', '19M', '50,000+', 'Free', '0', 'Everyone', 'Art & Design', 'April 26, 2018', '1.1', '4.0.3 and up']\n",
      "\n",
      "\n",
      "['Infinite Painter', 'ART_AND_DESIGN', '4.1', '36815', '29M', '1,000,000+', 'Free', '0', 'Everyone', 'Art & Design', 'June 14, 2018', '6.1.61.1', '4.2 and up']\n",
      "\n",
      "\n",
      "['Garden Coloring Book', 'ART_AND_DESIGN', '4.4', '13791', '33M', '1,000,000+', 'Free', '0', 'Everyone', 'Art & Design', 'September 20, 2017', '2.9.2', '3.0 and up']\n",
      "\n",
      "\n",
      "['Kids Paint Free - Drawing Fun', 'ART_AND_DESIGN', '4.7', '121', '3.1M', '10,000+', 'Free', '0', 'Everyone', 'Art & Design;Creativity', 'July 3, 2018', '2.8', '4.0.3 and up']\n",
      "\n",
      "\n",
      "['Text on Photo - Fonteee', 'ART_AND_DESIGN', '4.4', '13880', '28M', '1,000,000+', 'Free', '0', 'Everyone', 'Art & Design', 'October 27, 2017', '1.0.4', '4.1 and up']\n",
      "\n",
      "\n",
      "Number of rows: 9614\n",
      "Number of columns: 13\n",
      "\n",
      "\n",
      "['284882215', 'Facebook', '389879808', 'USD', '0.0', '2974676', '212', '3.5', '3.5', '95.0', '4+', 'Social Networking', '37', '1', '29', '1']\n",
      "\n",
      "\n",
      "['389801252', 'Instagram', '113954816', 'USD', '0.0', '2161558', '1289', '4.5', '4.0', '10.23', '12+', 'Photo & Video', '37', '0', '29', '1']\n",
      "\n",
      "\n",
      "['529479190', 'Clash of Clans', '116476928', 'USD', '0.0', '2130805', '579', '4.5', '4.5', '9.24.12', '9+', 'Games', '38', '5', '18', '1']\n",
      "\n",
      "\n",
      "Number of rows: 6183\n",
      "Number of columns: 16\n"
     ]
    }
   ],
   "source": [
    "def string_log(string):\n",
    "    for character in string:\n",
    "        if ord(character) <= 127:\n",
    "            return True\n",
    "        else:\n",
    "            return False\n",
    "    \n",
    "string = '😜a'\n",
    "print(string_log(string))\n",
    "    \n",
    "#This method will remove some relevant apps too \n",
    "#Therefore, keep atleast 3 non-eng characters\n",
    "\n",
    "def string_keep(string):\n",
    "    non_eng = 0\n",
    "    for character in string:\n",
    "        if ord(character) > 127:\n",
    "            non_eng += 1\n",
    "    if non_eng > 3:\n",
    "        return False\n",
    "    else:\n",
    "        return True\n",
    "\n",
    "string = '😜乐电a'\n",
    "print(string_keep(string))\n",
    "\n",
    "ios_eng = []\n",
    "android_eng = []\n",
    "\n",
    "for app in ios[1:]:\n",
    "    name = app[1]\n",
    "    keep_name = string_keep(name)\n",
    "    if (keep_name == True):\n",
    "        ios_eng.append(app)\n",
    "       \n",
    "        \n",
    "for app in android_clean:\n",
    "    name = app[0]\n",
    "    keep_name = string_keep(name)\n",
    "    if keep_name == True:\n",
    "        android_eng.append(app)\n",
    "        \n",
    "explore_data(android_eng, 0, 10, True)\n",
    "print('\\n')\n",
    "explore_data(ios_eng, 0, 3, True)        "
   ]
  },
  {
   "cell_type": "markdown",
   "metadata": {},
   "source": [
    "## Isolating the free apps"
   ]
  },
  {
   "cell_type": "code",
   "execution_count": 8,
   "metadata": {
    "collapsed": false
   },
   "outputs": [
    {
     "name": "stdout",
     "output_type": "stream",
     "text": [
      "3222\n",
      "8860\n"
     ]
    }
   ],
   "source": [
    "ios_free = []\n",
    "android_free = []\n",
    "\n",
    "for app in ios_eng:\n",
    "    price = app[4]\n",
    "    if price == '0.0':\n",
    "        ios_free.append(app)\n",
    "        \n",
    "for app in android_eng:\n",
    "    price = app[6]\n",
    "    if price == 'Free':\n",
    "        android_free.append(app)\n",
    "        \n",
    "print(len(ios_free))\n",
    "print(len(android_free))"
   ]
  },
  {
   "cell_type": "markdown",
   "metadata": {},
   "source": [
    "## Validation Strategy for an App\n",
    "\n",
    "Steps:\n",
    "1. Build a minimal Android version and launch on Google Play\n",
    "2. Develop further if it gets a good response\n",
    "3. If the app is profitable after 6 months, build an iOS version and launch it on Apple Store\n",
    "\n",
    "We need to assess profitable apps for both versions."
   ]
  },
  {
   "cell_type": "code",
   "execution_count": 14,
   "metadata": {
    "collapsed": false
   },
   "outputs": [
    {
     "name": "stdout",
     "output_type": "stream",
     "text": [
      "['284882215', 'Facebook', '389879808', 'USD', '0.0', '2974676', '212', '3.5', '3.5', '95.0', '4+', 'Social Networking', '37', '1', '29', '1']\n",
      "\n",
      "\n",
      "['Photo Editor & Candy Camera & Grid & ScrapBook', 'ART_AND_DESIGN', '4.1', '159', '19M', '10,000+', 'Free', '0', 'Everyone', 'Art & Design', 'January 7, 2018', '1.0.0', '4.0.3 and up']\n"
     ]
    }
   ],
   "source": [
    "print(ios_free[0])\n",
    "print('\\n')\n",
    "print(android_free[0])"
   ]
  },
  {
   "cell_type": "markdown",
   "metadata": {},
   "source": [
    "By inspection of the data set, we need to build a frequency table for the `prime_genre` column in the Apple data set, and for the `Genres` and `Category` column in the Google data set."
   ]
  },
  {
   "cell_type": "code",
   "execution_count": 20,
   "metadata": {
    "collapsed": false
   },
   "outputs": [
    {
     "name": "stdout",
     "output_type": "stream",
     "text": [
      "Games : 58.16263190564867\n",
      "Entertainment : 7.883302296710118\n",
      "Photo & Video : 4.9658597144630665\n",
      "Education : 3.662321539416512\n",
      "Social Networking : 3.2898820608317814\n",
      "Shopping : 2.60707635009311\n",
      "Utilities : 2.5139664804469275\n",
      "Sports : 2.1415270018621975\n",
      "Music : 2.0484171322160147\n",
      "Health & Fitness : 2.0173805090006205\n",
      "Productivity : 1.7380509000620732\n",
      "Lifestyle : 1.5828677839851024\n",
      "News : 1.3345747982619491\n",
      "Travel : 1.2414649286157666\n",
      "Finance : 1.1173184357541899\n",
      "Weather : 0.8690254500310366\n",
      "Food & Drink : 0.8069522036002483\n",
      "Reference : 0.5586592178770949\n",
      "Business : 0.5276225946617008\n",
      "Book : 0.4345127250155183\n",
      "Navigation : 0.186219739292365\n",
      "Medical : 0.186219739292365\n",
      "Catalogs : 0.12414649286157665\n",
      "\n",
      "\n",
      "FAMILY : 18.927765237020317\n",
      "GAME : 9.69525959367946\n",
      "TOOLS : 8.45372460496614\n",
      "BUSINESS : 4.5936794582392775\n",
      "LIFESTYLE : 3.9051918735891653\n",
      "PRODUCTIVITY : 3.8939051918735887\n",
      "FINANCE : 3.7020316027088036\n",
      "MEDICAL : 3.5214446952595937\n",
      "SPORTS : 3.397291196388262\n",
      "PERSONALIZATION : 3.3069977426636568\n",
      "COMMUNICATION : 3.239277652370203\n",
      "HEALTH_AND_FITNESS : 3.0812641083521446\n",
      "PHOTOGRAPHY : 2.945823927765237\n",
      "NEWS_AND_MAGAZINES : 2.799097065462754\n",
      "SOCIAL : 2.6636568848758464\n",
      "TRAVEL_AND_LOCAL : 2.336343115124153\n",
      "SHOPPING : 2.2460496613995486\n",
      "BOOKS_AND_REFERENCE : 2.144469525959368\n",
      "DATING : 1.8623024830699775\n",
      "VIDEO_PLAYERS : 1.7945823927765236\n",
      "MAPS_AND_NAVIGATION : 1.399548532731377\n",
      "FOOD_AND_DRINK : 1.2415349887133182\n",
      "EDUCATION : 1.1738148984198644\n",
      "ENTERTAINMENT : 0.9593679458239277\n",
      "LIBRARIES_AND_DEMO : 0.9367945823927766\n",
      "AUTO_AND_VEHICLES : 0.9255079006772009\n",
      "HOUSE_AND_HOME : 0.8239277652370203\n",
      "WEATHER : 0.8013544018058691\n",
      "EVENTS : 0.7110609480812641\n",
      "PARENTING : 0.6546275395033859\n",
      "ART_AND_DESIGN : 0.6433408577878104\n",
      "COMICS : 0.6207674943566591\n",
      "BEAUTY : 0.5981941309255079\n"
     ]
    }
   ],
   "source": [
    "def freq_table(dataset, index):\n",
    "    table = {}\n",
    "    freq_genre = 0\n",
    "    \n",
    "    for app in dataset:\n",
    "        genre = app[index]\n",
    "        freq_genre += 1\n",
    "        if genre in table:\n",
    "            table[genre] += 1\n",
    "        else:\n",
    "            table[genre] = 1 #This gives us the freq\n",
    "            \n",
    "        #Now need to convert freq to percentage \n",
    "    table_pp = {}\n",
    "    for genre in table:\n",
    "        table_pp[genre] = (table[genre] / freq_genre) * 100\n",
    "        \n",
    "    return table_pp\n",
    "\n",
    "def display_table(dataset, index):\n",
    "    table = freq_table(dataset, index)\n",
    "    table_display = []\n",
    "    for key in table:\n",
    "        key_val_as_tuple = (table[key], key)\n",
    "        table_display.append(key_val_as_tuple)\n",
    "\n",
    "    table_sorted = sorted(table_display, reverse = True)\n",
    "    for entry in table_sorted:\n",
    "        print(entry[1], ':', entry[0])\n",
    "        \n",
    "display_table(ios_free,-5)\n",
    "print('\\n')\n",
    "display_table(android_free,1)"
   ]
  },
  {
   "cell_type": "markdown",
   "metadata": {},
   "source": [
    "## Analyzing the frequency tables of different genres in iOS and Android apps\n",
    "\n",
    "From the above analysis, we learn that in the Apple store data set, amongst the free English-named apps, **Games**, and **Entertainment** are the most common. Games dominate the iOS market by a huge margin. However, there is no such strong domination in the Android market. The Android market has **Family** and **Game** as the most common apps in our observable sub-sample. \n",
    "\n",
    "Based on this analysis, we can recommend Gaming apps (or Entertainment apps) based on the number of apps available alone. However, we need to check user rating and popularity or downloads before making any suggestions. \n",
    "\n",
    "## Analyzing App popularity\n",
    "\n",
    "Now we move on to checking app popularity by checking the number of installs *or* the user ratings.\n",
    "\n",
    "In order to do this, we will perform the following steps to first calculate the average user rating in each genre of app in the iOS store:\n",
    "1. Isolate the apps in each genre\n",
    "2. Calculate the average user rating "
   ]
  },
  {
   "cell_type": "code",
   "execution_count": 38,
   "metadata": {
    "collapsed": false
   },
   "outputs": [
    {
     "name": "stdout",
     "output_type": "stream",
     "text": [
      "{'Navigation': 0.186219739292365, 'Lifestyle': 1.5828677839851024, 'Medical': 0.186219739292365, 'Entertainment': 7.883302296710118, 'Games': 58.16263190564867, 'Book': 0.4345127250155183, 'Shopping': 2.60707635009311, 'Reference': 0.5586592178770949, 'Education': 3.662321539416512, 'Productivity': 1.7380509000620732, 'Travel': 1.2414649286157666, 'Food & Drink': 0.8069522036002483, 'News': 1.3345747982619491, 'Finance': 1.1173184357541899, 'Catalogs': 0.12414649286157665, 'Sports': 2.1415270018621975, 'Social Networking': 3.2898820608317814, 'Photo & Video': 4.9658597144630665, 'Weather': 0.8690254500310366, 'Music': 2.0484171322160147, 'Health & Fitness': 2.0173805090006205, 'Utilities': 2.5139664804469275, 'Business': 0.5276225946617008}\n",
      "\n",
      "\n",
      "Navigation\n",
      "86090.33333333333\n",
      "Lifestyle\n",
      "16485.764705882353\n",
      "Medical\n",
      "612.0\n",
      "Entertainment\n",
      "14029.830708661417\n",
      "Games\n",
      "22788.6696905016\n",
      "Book\n",
      "39758.5\n",
      "Shopping\n",
      "26919.690476190477\n",
      "Reference\n",
      "74942.11111111111\n",
      "Education\n",
      "7003.983050847458\n",
      "Productivity\n",
      "21028.410714285714\n",
      "Travel\n",
      "28243.8\n",
      "Food & Drink\n",
      "33333.92307692308\n",
      "News\n",
      "21248.023255813954\n",
      "Finance\n",
      "31467.944444444445\n",
      "Catalogs\n",
      "4004.0\n",
      "Sports\n",
      "23008.898550724636\n",
      "Social Networking\n",
      "71548.34905660378\n",
      "Photo & Video\n",
      "28441.54375\n",
      "Weather\n",
      "52279.892857142855\n",
      "Music\n",
      "57326.530303030304\n",
      "Health & Fitness\n",
      "23298.015384615384\n",
      "Utilities\n",
      "18684.456790123455\n",
      "Business\n",
      "7491.117647058823\n"
     ]
    }
   ],
   "source": [
    "ios_genre_table = freq_table(ios_free,-5)\n",
    "print(ios_genre_table)\n",
    "print('\\n')\n",
    "\n",
    "for genre in ios_genre_table:\n",
    "    total = 0\n",
    "    len_genre = 0\n",
    "    for app in ios_free:\n",
    "        genre_app = app[-5]\n",
    "        if genre_app == genre:\n",
    "            rating = float(app[5])\n",
    "            total += rating\n",
    "            len_genre += 1\n",
    "    avg_rating = total/len_genre \n",
    "    print(genre)\n",
    "    print(avg_rating)\n",
    "    "
   ]
  },
  {
   "cell_type": "markdown",
   "metadata": {},
   "source": [
    "From the above table, it seems like `Navigation` dominates the user ratings followed by `Reference` and `Social Networking`. By examination of the data set, Navigation is primarily dominated by Google maps. Therefore, we would suggest coming up with a free app in either of the two latter categories. \n",
    "\n",
    "The same could be true of any category (needs further analysis)."
   ]
  },
  {
   "cell_type": "code",
   "execution_count": 43,
   "metadata": {
    "collapsed": false
   },
   "outputs": [
    {
     "name": "stdout",
     "output_type": "stream",
     "text": [
      "{'SOCIAL': 2.6636568848758464, 'MAPS_AND_NAVIGATION': 1.399548532731377, 'EDUCATION': 1.1738148984198644, 'NEWS_AND_MAGAZINES': 2.799097065462754, 'PERSONALIZATION': 3.3069977426636568, 'HEALTH_AND_FITNESS': 3.0812641083521446, 'PHOTOGRAPHY': 2.945823927765237, 'SHOPPING': 2.2460496613995486, 'BEAUTY': 0.5981941309255079, 'MEDICAL': 3.5214446952595937, 'VIDEO_PLAYERS': 1.7945823927765236, 'BOOKS_AND_REFERENCE': 2.144469525959368, 'EVENTS': 0.7110609480812641, 'COMMUNICATION': 3.239277652370203, 'BUSINESS': 4.5936794582392775, 'FOOD_AND_DRINK': 1.2415349887133182, 'LIFESTYLE': 3.9051918735891653, 'COMICS': 0.6207674943566591, 'ART_AND_DESIGN': 0.6433408577878104, 'TRAVEL_AND_LOCAL': 2.336343115124153, 'GAME': 9.69525959367946, 'FAMILY': 18.927765237020317, 'HOUSE_AND_HOME': 0.8239277652370203, 'WEATHER': 0.8013544018058691, 'FINANCE': 3.7020316027088036, 'DATING': 1.8623024830699775, 'TOOLS': 8.45372460496614, 'SPORTS': 3.397291196388262, 'PARENTING': 0.6546275395033859, 'AUTO_AND_VEHICLES': 0.9255079006772009, 'ENTERTAINMENT': 0.9593679458239277, 'LIBRARIES_AND_DEMO': 0.9367945823927766, 'PRODUCTIVITY': 3.8939051918735887}\n",
      "\n",
      "\n",
      "SOCIAL\n",
      "23253652.127118643\n",
      "MAPS_AND_NAVIGATION\n",
      "4056941.7741935486\n",
      "EDUCATION\n",
      "1820673.076923077\n",
      "NEWS_AND_MAGAZINES\n",
      "9549178.467741935\n",
      "PERSONALIZATION\n",
      "5218893.815699658\n",
      "HEALTH_AND_FITNESS\n",
      "4188821.9853479853\n",
      "PHOTOGRAPHY\n",
      "17805627.643678162\n",
      "SHOPPING\n",
      "7036877.311557789\n",
      "BEAUTY\n",
      "513151.88679245283\n",
      "MEDICAL\n",
      "120616.48717948717\n",
      "VIDEO_PLAYERS\n",
      "24727872.452830188\n",
      "BOOKS_AND_REFERENCE\n",
      "8767811.894736841\n",
      "EVENTS\n",
      "253542.22222222222\n",
      "COMMUNICATION\n",
      "38456119.167247385\n",
      "BUSINESS\n",
      "1712290.1474201474\n",
      "FOOD_AND_DRINK\n",
      "1924897.7363636363\n",
      "LIFESTYLE\n",
      "1437816.2687861272\n",
      "COMICS\n",
      "817657.2727272727\n",
      "ART_AND_DESIGN\n",
      "1986335.0877192982\n",
      "TRAVEL_AND_LOCAL\n",
      "13984077.710144928\n",
      "GAME\n",
      "15560965.599534342\n",
      "FAMILY\n",
      "3696479.242695289\n",
      "HOUSE_AND_HOME\n",
      "1331540.5616438356\n",
      "WEATHER\n",
      "5074486.197183099\n",
      "FINANCE\n",
      "1387692.475609756\n",
      "DATING\n",
      "854028.8303030303\n",
      "TOOLS\n",
      "10682301.033377837\n",
      "SPORTS\n",
      "3638640.1428571427\n",
      "PARENTING\n",
      "542603.6206896552\n",
      "AUTO_AND_VEHICLES\n",
      "647317.8170731707\n",
      "ENTERTAINMENT\n",
      "11640705.88235294\n",
      "LIBRARIES_AND_DEMO\n",
      "638503.734939759\n",
      "PRODUCTIVITY\n",
      "16787331.344927534\n"
     ]
    }
   ],
   "source": [
    "android_freqtab = freq_table(android_free,1)\n",
    "print(android_freqtab)\n",
    "print('\\n')\n",
    "\n",
    "for genre in android_freqtab:\n",
    "    total = 0\n",
    "    len_install = 0\n",
    "    for app in android_free:\n",
    "        genre_app = app[1]\n",
    "        if genre_app == genre:\n",
    "            installs = app[5]\n",
    "            installs = installs.replace('+','')\n",
    "            installs = installs.replace(',','')\n",
    "            installs = float(installs)\n",
    "            total += installs\n",
    "            len_install += 1\n",
    "    abg_installs = total/len_install \n",
    "    print(genre)\n",
    "    print(abg_installs)\n",
    "    "
   ]
  },
  {
   "cell_type": "markdown",
   "metadata": {},
   "source": []
  }
 ],
 "metadata": {
  "kernelspec": {
   "display_name": "Python 3",
   "language": "python",
   "name": "python3"
  },
  "language_info": {
   "codemirror_mode": {
    "name": "ipython",
    "version": 3
   },
   "file_extension": ".py",
   "mimetype": "text/x-python",
   "name": "python",
   "nbconvert_exporter": "python",
   "pygments_lexer": "ipython3",
   "version": "3.4.3"
  }
 },
 "nbformat": 4,
 "nbformat_minor": 2
}
